{
 "cells": [
  {
   "cell_type": "markdown",
   "metadata": {},
   "source": [
    "<a href=\"https://githubtocolab.com/borislevant/python4ml/blob/main/regression.ipynb\" target=\"_parent\"><img src=\"https://colab.research.google.com/assets/colab-badge.svg\" alt=\"Open in Colab\"/></a>\n",
    "\n",
    "# Linear Regression\n",
    "\n",
    "[![scikit-learn logo](https://commons.wikimedia.org/wiki/File:Scikit_learn_logo_small.svg)](https://scikit-learn.org/stable/)\n"
   ]
  },
  {
   "cell_type": "code",
   "execution_count": 15,
   "metadata": {},
   "outputs": [],
   "source": [
    "%matplotlib inline\n",
    "import matplotlib.pyplot as plt\n",
    "import numpy as np\n",
    "import pandas as pd\n",
    "import seaborn as sns\n",
    "\n",
    "from sklearn import linear_model\n",
    "from sklearn import preprocessing\n",
    "from sklearn.model_selection import train_test_split\n",
    "\n",
    "sns.set(\n",
    "    style='ticks',\n",
    "    context='talk',\n",
    "    palette='Set1'\n",
    ")"
   ]
  },
  {
   "cell_type": "markdown",
   "metadata": {},
   "source": [
    "# Supervised learning\n",
    "\n",
    "Supervised learning (SL) is a machine learning paradigm for problems where the available data consists of labelled examples, meaning that each data point contains features (covariates) and an associated label. The goal of supervised learning algorithms is learning a function that maps feature vectors (inputs) to labels (output), based on example input-output pairs. It infers a function from labeled training data consisting of a set of training examples. In supervised learning, each example is a pair consisting of an input object (typically a vector) and a desired output value (also called the supervisory signal). A supervised learning algorithm analyzes the training data and produces an inferred function, which can be used for mapping new examples. An optimal scenario will allow for the algorithm to correctly determine the class labels for unseen instances. This requires the learning algorithm to generalize from the training data to unseen situations in a \"reasonable\" way (see inductive bias). This statistical quality of an algorithm is measured through the so-called generalization error.\n",
    "\n",
    "The most popular python toolbox for solution of Machine Learning problems is *scikit-learn*. To install it just type\n",
    "```\n",
    "pip install scikit-learn\n",
    "```\n",
    "\n",
    "All supervised estimators (models) in *scikit-learn* (both for regression and classification problems) implement a `fit(X, y)` method to fit the model and a `predict(X)` method that, given unlabeled observations `X`, returns the predicted labels `y`.\n",
    "\n",
    "In this section we will learn how to train, use and estimate the *linear regression*. We will work with 2 datasets\n",
    "* healthexp - for the simple 1-parameter `X` linear regression\n",
    "* pinguins - for the more sofisticated models, involving multiple parameter/polynomial regression\n"
   ]
  },
  {
   "cell_type": "markdown",
   "metadata": {},
   "source": [
    "# Life Expectancy vs. Spendings\n",
    "\n",
    "Let's load the data set from the standard set of Seaborn package\n"
   ]
  },
  {
   "cell_type": "code",
   "execution_count": 8,
   "metadata": {},
   "outputs": [
    {
     "data": {
      "text/plain": "   Year        Country  Spending_USD  Life_Expectancy\n0  1970        Germany       252.311             70.6\n1  1970         France       192.143             72.2\n2  1970  Great Britain       123.993             71.9\n3  1970          Japan       150.437             72.0\n4  1970            USA       326.961             70.9",
      "text/html": "<div>\n<style scoped>\n    .dataframe tbody tr th:only-of-type {\n        vertical-align: middle;\n    }\n\n    .dataframe tbody tr th {\n        vertical-align: top;\n    }\n\n    .dataframe thead th {\n        text-align: right;\n    }\n</style>\n<table border=\"1\" class=\"dataframe\">\n  <thead>\n    <tr style=\"text-align: right;\">\n      <th></th>\n      <th>Year</th>\n      <th>Country</th>\n      <th>Spending_USD</th>\n      <th>Life_Expectancy</th>\n    </tr>\n  </thead>\n  <tbody>\n    <tr>\n      <th>0</th>\n      <td>1970</td>\n      <td>Germany</td>\n      <td>252.311</td>\n      <td>70.6</td>\n    </tr>\n    <tr>\n      <th>1</th>\n      <td>1970</td>\n      <td>France</td>\n      <td>192.143</td>\n      <td>72.2</td>\n    </tr>\n    <tr>\n      <th>2</th>\n      <td>1970</td>\n      <td>Great Britain</td>\n      <td>123.993</td>\n      <td>71.9</td>\n    </tr>\n    <tr>\n      <th>3</th>\n      <td>1970</td>\n      <td>Japan</td>\n      <td>150.437</td>\n      <td>72.0</td>\n    </tr>\n    <tr>\n      <th>4</th>\n      <td>1970</td>\n      <td>USA</td>\n      <td>326.961</td>\n      <td>70.9</td>\n    </tr>\n  </tbody>\n</table>\n</div>"
     },
     "execution_count": 8,
     "metadata": {},
     "output_type": "execute_result"
    }
   ],
   "source": [
    "df = sns.load_dataset('healthexp')\n",
    "df.head(5)"
   ]
  },
  {
   "cell_type": "markdown",
   "source": [
    "The simplest model for such predictions is the linear model\n",
    "$$\n",
    "\\widehat{y} = ax + b\n",
    "$$\n",
    "where here $x$ is the aces and $y$ is the points won.\n",
    "The model parameters can be interpreted as follows:\n",
    "- the intercept $b$ is the estimate for points won if 0 points were aced, and\n",
    "- the slope $a$ is the estimate for the linear increase in points won for every additional ace.\n",
    "\n",
    "We then look for $a$ and $b$ such that this loss function is minimized:\n",
    "$$\n",
    "loss = \\sum_{i=1}^n{(y-\\widehat{y})^2}\n",
    "$$\n",
    "Note that this loss is just the square of the residuals -- the difference between the true value $y$ and the predicted value $\\widehat{y}$.\n",
    "\n",
    "Let's use Scikit-learn to fit a linear regression model.\n",
    "\n",
    "We import the model, and format the data the way scikit-learn likes it."
   ],
   "metadata": {
    "collapsed": false
   }
  },
  {
   "cell_type": "code",
   "execution_count": 27,
   "outputs": [
    {
     "name": "stdout",
     "output_type": "stream",
     "text": [
      "R^2: 0.9321\n"
     ]
    }
   ],
   "source": [
    "X = df.loc[df.Country=='Canada', 'Spending_USD'].values.reshape((-1, 1))\n",
    "y = df.loc[df.Country=='Canada', 'Life_Expectancy'].values\n",
    "lin_model = linear_model.LinearRegression()\n",
    "lin_model.fit(X, y)\n",
    "print(\"R^2: {:.4f}\".format(lin_model.score(X, y)))"
   ],
   "metadata": {
    "collapsed": false
   }
  },
  {
   "cell_type": "markdown",
   "metadata": {},
   "source": [
    "$R^2$ is the proportion of variation in $y$ explained by the linear regression. 93% is quite a good fit. Let's look at the plots"
   ]
  },
  {
   "cell_type": "code",
   "execution_count": 31,
   "metadata": {},
   "outputs": [
    {
     "data": {
      "text/plain": "Text(0.5, 1.0, 'Country: Japan')"
     },
     "execution_count": 31,
     "metadata": {},
     "output_type": "execute_result"
    },
    {
     "data": {
      "text/plain": "<Figure size 360x360 with 1 Axes>",
      "image/png": "[encoded data removed]"
     },
     "metadata": {},
     "output_type": "display_data"
    }
   ],
   "source": [
    "plt.figure(figsize=(5, 5))\n",
    "plt.plot(X, y, '.k')\n",
    "plt.plot(X, lin_model.predict(X))\n",
    "plt.xlabel('Spending ($)')\n",
    "plt.ylabel('Life Expectancy (years)')\n",
    "plt.title('Country: Japan')"
   ]
  },
  {
   "cell_type": "markdown",
   "source": [
    "We can easily get the parameters of the model in the following way:"
   ],
   "metadata": {
    "collapsed": false
   }
  },
  {
   "cell_type": "code",
   "execution_count": 36,
   "outputs": [
    {
     "name": "stdout",
     "output_type": "stream",
     "text": [
      "The parameters of the model y=ax+b are\n",
      "a=0.0015828050279988568\n",
      "b=74.45575471973685\n"
     ]
    }
   ],
   "source": [
    "print('The parameters of the model y=ax+b are')\n",
    "print(f'a={lin_model.coef_[0]}')\n",
    "print(f'b={lin_model.intercept_}')"
   ],
   "metadata": {
    "collapsed": false
   }
  },
  {
   "cell_type": "markdown",
   "metadata": {},
   "source": [
    "# References\n",
    "\n",
    "- Scikit-learn [supervised learning tutorial](http://scikit-learn.org/stable/tutorial/statistical_inference/supervised_learning.html).\n",
    "- [Tuning meta-parameters](http://scikit-learn.org/stable/modules/grid_search.html#grid-search) with cross validation.\n",
    "\n",
    "# Futher exercise\n",
    "\n",
    "- [Regression with a linear model](../exercises/linear-model.ipynb)\n",
    "- [Classification with a logistic model](../exercises/logistic-tennis.ipynb)"
   ]
  },
  {
   "cell_type": "code",
   "execution_count": null,
   "outputs": [],
   "source": [],
   "metadata": {
    "collapsed": false
   }
  }
 ],
 "metadata": {
  "kernelspec": {
   "display_name": "Python 3",
   "language": "python",
   "name": "python3"
  },
  "language_info": {
   "codemirror_mode": {
    "name": "ipython",
    "version": 3
   },
   "file_extension": ".py",
   "mimetype": "text/x-python",
   "name": "python",
   "nbconvert_exporter": "python",
   "pygments_lexer": "ipython3",
   "version": "3.6.4"
  }
 },
 "nbformat": 4,
 "nbformat_minor": 4
}
