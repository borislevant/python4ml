{
 "cells": [
  {
   "cell_type": "markdown",
   "metadata": {},
   "source": [
    "![](img/logo.png)\n",
    "\n",
    "# Plotting with Python: Matplotlib"
   ]
  },
  {
   "cell_type": "markdown",
   "metadata": {},
   "source": [
    "<a href=\"http://matplotlib.org\" target=\"_blank\"><img src=\"http://matplotlib.org/_static/logo2.svg\" alt=\"Matplotlib logo\" width=\"500px\"/></a>\n",
    "\n",
    "The mathematician Richard Hamming once said, **\"The purpose of computing is insight, not numbers\"**, and the best way to develop insight is often to visualize data. While there is no \"official\" plotting library, *matplotlib* is the _de facto_ standard. \n",
    "\n",
    "From Wikipedia:\n",
    "> matplotlib is a plotting library for the Python programming language and its numerical mathematics extension NumPy. It provides an object-oriented API for embedding plots into applications using general-purpose GUI toolkits... There is also a procedural \"pylab\" interface... designed to closely resemble that of **MATLAB**.\n",
    "\n",
    "> The pylab interface makes matplotlib easy to learn for experienced MATLAB users, making it a viable alternative to MATLAB as a teaching tool for numerical mathematics and signal processing.\n",
    "> Some of the advantages of the combination of Python, NumPy, and matplotlib over MATLAB include:\n",
    "> -  Based on Python, a full-featured modern object-oriented programming language suitable for large-scale software development\n",
    "> - Free, open source, no license servers\n",
    "> - Native SVG support"
   ]
  },
  {
   "cell_type": "markdown",
   "metadata": {},
   "source": [
    "First, let's tell the notebook that we want our plots displayed inline, rather than in a separate viewing window."
   ]
  },
  {
   "cell_type": "code",
   "execution_count": null,
   "metadata": {},
   "outputs": [],
   "source": [
    "%matplotlib inline\n",
    "import numpy as np\n",
    "import matplotlib.pyplot as plt\n",
    "import matplotlib as mpl\n",
    "print(\"Matplotlib version:\", mpl.__version__)"
   ]
  },
  {
   "cell_type": "markdown",
   "metadata": {},
   "source": [
    "The `inline` part was to tell the notebook to use Matplotlib's `nbagg` backend, which work good with the notebook (hence the `nb` in `nbagg`). \n",
    "\n",
    "There are other backends, such as those used for web and for GUI.\n",
    "\n",
    "For this tutorial we didn't need to import `matplotlib`, we just imported it to get the version."
   ]
  },
  {
   "cell_type": "markdown",
   "metadata": {},
   "source": [
    "# Plotting patient data\n",
    "\n",
    "We are back to our patient infection data from the NumPy session."
   ]
  },
  {
   "cell_type": "code",
   "execution_count": null,
   "metadata": {},
   "outputs": [],
   "source": [
    "fname = \"../data/inflammation-01.csv\"\n",
    "data = np.loadtxt(fname, delimiter=',')\n",
    "n_patients, n_days = data.shape\n",
    "print(data)"
   ]
  },
  {
   "cell_type": "markdown",
   "metadata": {},
   "source": [
    "We use matplotlib display of the data with `imshow`, which plots a matrix as if it was an image (hence `im`) using a color map that maps each number to a color.\n",
    "\n",
    "The default colormap is `viridis` but can be changed using the argument `cmap`."
   ]
  },
  {
   "cell_type": "code",
   "execution_count": null,
   "metadata": {},
   "outputs": [],
   "source": [
    "plt.imshow(data, aspect=0.66) \n",
    "cb = plt.colorbar(fraction=0.045)"
   ]
  },
  {
   "cell_type": "markdown",
   "metadata": {},
   "source": [
    "* `aspect` controls the width of one x unit vs. one y unit.\n",
    "* `fraction` controls the size of the colorbar compared to the plot.\n",
    "\n",
    "Blue regions in this heatmap are low values, while yellow shows high values. As we can see, inflammation rises and falls over a 40-day period."
   ]
  },
  {
   "cell_type": "markdown",
   "metadata": {},
   "source": [
    "Let's take a look at the average inflammation over time: we now plot a line plot using the function `plot`. \n",
    "\n",
    "It can be given x and y data, but if given only one series it will use it as y and infer x to be consecutive number from 0 to length of y."
   ]
  },
  {
   "cell_type": "code",
   "execution_count": null,
   "metadata": {},
   "outputs": [],
   "source": [
    "# one patient\n",
    "plt.plot(data[0,:])"
   ]
  },
  {
   "cell_type": "markdown",
   "metadata": {},
   "source": [
    "Let's just plot all the lines and add labels. We set transparency to 30% using the `alpha` keyword."
   ]
  },
  {
   "cell_type": "code",
   "execution_count": null,
   "metadata": {},
   "outputs": [],
   "source": [
    "# all patients\n",
    "for i in range(n_patients):\n",
    "    plt.plot(data[i], alpha=0.3)\n",
    "plt.xlabel('Day')\n",
    "plt.ylabel('Inflammation');"
   ]
  },
  {
   "cell_type": "markdown",
   "metadata": {},
   "source": [
    "We can also plot all the 2D array at once:"
   ]
  },
  {
   "cell_type": "code",
   "execution_count": null,
   "metadata": {},
   "outputs": [],
   "source": [
    "# when given a 2D-array, plot method plots the columns. \n",
    "# Hence we transpose the data\n",
    "plt.plot(data.T, alpha=0.3)\n",
    "plt.xlabel('Day')\n",
    "plt.ylabel('Inflammation');"
   ]
  },
  {
   "cell_type": "markdown",
   "metadata": {},
   "source": [
    "Let's take a look at the average inflammation over time:"
   ]
  },
  {
   "cell_type": "code",
   "execution_count": null,
   "metadata": {},
   "outputs": [],
   "source": [
    "avg_inflammation = data.mean(axis=0)\n",
    "plt.plot(avg_inflammation)\n",
    "plt.xlabel('Day', fontsize=20)\n",
    "plt.ylabel('Inflammation', fontsize=20)\n",
    "plt.tick_params(labelsize=16);"
   ]
  },
  {
   "cell_type": "markdown",
   "metadata": {},
   "source": [
    "Here, we have put the average per day across all patients in the variable `avg_inflammation`, then used `plot` to create and display a line graph of those values. "
   ]
  },
  {
   "cell_type": "markdown",
   "metadata": {},
   "source": [
    "## Exercise 1\n",
    "\n",
    "Let's have a look at two other statistics.\n",
    "**Plot the average, minimum, and maximum inflammation, all on the same plot.**\n",
    "\n",
    "Also create a legend (`plt.legend`) with appropriate labels for each line.\n",
    "\n",
    "Labels can be specified by adding `label=....` to `plot`.\n",
    "\n",
    "Don't forget to add axes labels using `plt.xlabel` and `plt.ylabel`.\n",
    "\n",
    "Use `plt.tick_params(labelsize = ...)` in order to set the ticks label size.\n",
    "\n",
    "**Reminder**\n",
    "- Edit cell by double clicking\n",
    "- Run cell by pressing _Shift+Enter_\n",
    "- Get autocompletion by pressing _Tab_\n",
    "- Get documentation by pressing _Shift+Tab_"
   ]
  },
  {
   "cell_type": "code",
   "execution_count": null,
   "metadata": {},
   "outputs": [],
   "source": [
    "\n",
    "\n"
   ]
  },
  {
   "cell_type": "markdown",
   "metadata": {},
   "source": [
    "Next lets do a box plot -- Matplotlib will calculate the boxes for us.\n",
    "\n",
    "- `medianprops` is a dictionary that contains extra properties for the median.\n",
    "- `plt.xticks` determines where the ticks will be drawn (1st argument) and what they will say (2nd argument)."
   ]
  },
  {
   "cell_type": "code",
   "execution_count": null,
   "metadata": {},
   "outputs": [],
   "source": [
    "plt.boxplot(data,sym='', medianprops=dict(color='r'))\n",
    "plt.xlabel('Day')\n",
    "plt.ylabel('Inflammation')\n",
    "plt.xticks([1, 10, 20, 30, 40], [1, 10, 20, 30, 40]);"
   ]
  },
  {
   "cell_type": "markdown",
   "metadata": {},
   "source": [
    "Another way to visualize the dispersion is by plotting the mean and highlighting the area that contains $\\pm$ standard deviation.\n",
    "\n",
    "This is done using the `plt.fill_between(x, y1, y2)` function, which fills the ares between two lines: `(x, y1)` and `(x, y2)`.\n",
    "\n",
    "Again, we use `alpha` to set the transparency."
   ]
  },
  {
   "cell_type": "code",
   "execution_count": null,
   "metadata": {},
   "outputs": [],
   "source": [
    "avg_inflammation = data.mean(axis=0)\n",
    "std_inflammation = data.std(axis=0)\n",
    "\n",
    "plt.plot(avg_inflammation)\n",
    "\n",
    "plt.fill_between(\n",
    "    x  = range(n_days), \n",
    "    y1 = avg_inflammation + std_inflammation, \n",
    "    y2 = avg_inflammation - std_inflammation,\n",
    "    alpha = 0.3\n",
    ")\n",
    "\n",
    "plt.ylim(0,None)\n",
    "plt.xlim(0,40)\n",
    "plt.xlabel('Day', fontsize=20)\n",
    "plt.ylabel('Inflammation', fontsize=20);"
   ]
  },
  {
   "cell_type": "markdown",
   "metadata": {},
   "source": [
    "## Exercise 2\n",
    "\n",
    "`plot` draws points with lines connecting them. \n",
    "But there are other plotting functions - a useful one is `bar`, which draws bars.\n",
    "\n",
    "**Plot the max of each patient using a [bar-plot](https://matplotlib.org/3.1.1/api/_as_gen/matplotlib.pyplot.bar.html).**"
   ]
  },
  {
   "cell_type": "code",
   "execution_count": null,
   "metadata": {},
   "outputs": [],
   "source": []
  },
  {
   "cell_type": "markdown",
   "metadata": {},
   "source": [
    "# Anatomy of Matplotlib\n",
    "\n",
    "Figure is the top-level container of plots. It is the overall window/page that everything is drawn on. \n",
    "\n",
    "You can have multiple independent figures and figures can contain multiple axes.\n",
    "\n",
    "The axes is effectively the area that we plot data on and any ticks/labels/etc associated with it. \n",
    "\n",
    "[more on matplotlib anatomy](https://waterprogramming.wordpress.com/2016/04/29/interactive-plotting-basics-in-matplotlib/)\n",
    "\n",
    "#### __Figure__\n",
    "\n",
    "If we want to control properties of the figure, we can explicitly create it with `plt.figure`.\n",
    "\n",
    "For example, we can control the size of the figure through the `figsize` argument, which expects a tuple of `(width, height)`."
   ]
  },
  {
   "cell_type": "code",
   "execution_count": null,
   "metadata": {},
   "outputs": [],
   "source": [
    "plt.figure(figsize=(8, 4))"
   ]
  },
  {
   "cell_type": "markdown",
   "metadata": {},
   "source": [
    "nothing happened! This is because we didn't plot anything or created any axes."
   ]
  },
  {
   "cell_type": "markdown",
   "metadata": {},
   "source": [
    "## __Axes methods vs. pyplot__\n",
    "\n",
    "Importantly, everything that can be done using `plt` can be done by creating explicit figures and axes and calling methods of an `Axes` object.\n",
    "\n",
    "For example, when calling `plt.xlim(1, 10)`, `pyplot` calls `x.set_xlim(1, 10)` on whichever `Axes` is \"current\". \n",
    "\n",
    "Here is an equivalent version of the above example using the axes API."
   ]
  },
  {
   "cell_type": "code",
   "execution_count": null,
   "metadata": {},
   "outputs": [],
   "source": [
    "fig, ax = plt.subplots(figsize=(5,3))\n",
    "ax.plot(avg_inflammation)\n",
    "ax.set_xlabel('Day')\n",
    "ax.set_ylabel('Inflammation')\n",
    "ax.set_title('Average Daily  Inflammation')\n",
    "ax.set_xticks([1, 10, 20, 30, 40], [1, 10, 20, 30, 40])\n",
    "ax.set_yticks([0, 10, 20])\n",
    "ax.set_ylim(-1, 21)\n",
    "ax.set_xlim(-1, 40);"
   ]
  },
  {
   "cell_type": "markdown",
   "metadata": {},
   "source": [
    "### Multiple Axes\n",
    "\n",
    "We've mentioned before that a figure can have more than one `Axes` on it. \n",
    "\n",
    "If you want your axes to be on a regular grid system, then it's easiest to use `plt.subplots(...)` to create a figure and add the axes to it automatically.\n",
    "\n",
    "For example:"
   ]
  },
  {
   "cell_type": "code",
   "execution_count": null,
   "metadata": {},
   "outputs": [],
   "source": [
    "fig, axes = plt.subplots(2, 2) # nrows=2, ncols=2"
   ]
  },
  {
   "cell_type": "markdown",
   "metadata": {},
   "source": [
    "`plt.subplots(...)` created a new figure and added 4 subplots to it. The axes object that was returned is a 2D numpy array. \n",
    "\n",
    "Each item in the array is one of the subplots. They're laid out as you see them on the figure.\n",
    "\n",
    "Therefore, when we want to work with one of these axes, we can index the axes array and use that item's methods.\n",
    "\n",
    "For example:"
   ]
  },
  {
   "cell_type": "code",
   "execution_count": null,
   "metadata": {},
   "outputs": [],
   "source": [
    "fig, axes = plt.subplots(nrows=2, ncols=2)\n",
    "axes[0,0].set(title='Upper Left')\n",
    "axes[0,1].set(title='Upper Right')\n",
    "axes[1,0].set(title='Lower Left')\n",
    "axes[1,1].set(title='Lower Right')\n",
    "\n",
    "# To iterate over all items in a multidimensional numpy array, \n",
    "# use the `flat` attribute\n",
    "for ax in axes.flat:\n",
    "    ax.plot(range(10), range(10))\n",
    "\n",
    "fig.tight_layout()"
   ]
  },
  {
   "cell_type": "markdown",
   "metadata": {},
   "source": [
    "When `plt.subplots` is called with no arguments, it creates a new figure with a single subplot. So this will be our default way of creating a figure and axes.\n",
    "\n",
    "*Tip* when you've finished plotting, call `fig.tight_layout()` to fix the layout."
   ]
  },
  {
   "cell_type": "markdown",
   "metadata": {},
   "source": [
    "## Exercise 3\n",
    "\n",
    "**Reproduce the figure shown below**, which shows the inflammation of the first 8 patients.\n",
    "\n",
    "You can use the arguments `sharex` and `sharey` of `plt.subplots` to make all the axes share their x- and y-axis."
   ]
  },
  {
   "cell_type": "code",
   "execution_count": null,
   "metadata": {},
   "outputs": [],
   "source": []
  },
  {
   "cell_type": "code",
   "execution_count": null,
   "metadata": {},
   "outputs": [],
   "source": []
  },
  {
   "cell_type": "markdown",
   "metadata": {},
   "source": [
    "# References\n",
    "\n",
    "- **[Matplotlib gallery](https://github.com/rasbt/matplotlib-gallery)**\n",
    "- [Anatomy of Matplotlib](https://github.com/WeatherGod/AnatomyOfMatplotlib) tutorial by [Benjamin Root](https://github.com/WeatherGod).\n",
    "- Slides: [Introduction to NumPy, SciPy, and matplotlib](https://speakerdeck.com/cfinch/introduction-to-numpy-scipy-and-matplotlib) by Craig Finch.\n",
    "- Notebooks: [Long Matplotlib tutorial](http://nbviewer.ipython.org/github/jrjohansson/scientific-python-lectures/blob/master/Lecture-4-Matplotlib.ipynb)\n",
    "- [How to speak Matplotlib](http://nbviewer.jupyter.org/github/yoavram/AnatomyOfMatplotlib/blob/master/AnatomyOfMatplotlib-Part3-HowToSpeakMPL.ipynb) - control colors, markers, linestyles, plot attributes, colormaps, annotations, arrows, hatches, transforms, and rc configuration.\n",
    "- [Limits, legends, & layouts](http://nbviewer.jupyter.org/github/yoavram/AnatomyOfMatplotlib/blob/master/AnatomyOfMatplotlib-Part4-Limits_Legends_and_Layouts.ipynb)- [Why People Hate Jet – and You Should Too](https://jakevdp.github.io/blog/2014/10/16/how-bad-is-your-colormap/)\n",
    "- Jake Vanderplas's [Minesweeper in Matplotlib](https://jakevdp.github.io/blog/2012/12/06/minesweeper-in-matplotlib/), [Quaternions and Key Bindings: Simple 3D Visualization in Matplotlib](http://jakevdp.github.io/blog/2012/11/24/simple-3d-visualization-in-matplotlib/) and [3D Interactive Rubik's Cube in Python](http://jakevdp.github.io/blog/2012/11/26/3d-interactive-rubiks-cube-in-python/) are amazing examples of what can be done with Matplotlib beyond simple plots and using a GUI."
   ]
  },
  {
   "cell_type": "markdown",
   "metadata": {},
   "source": [
    "# Colophon\n",
    "This notebook was written by [Yoav Ram](http://python.yoavram.com).\n",
    "\n",
    "The notebook was written using [Python](http://python.org/) 3.7.\n",
    "Dependencies listed in [environment.yml](../environment.yml).\n",
    "\n",
    "This work is licensed under a CC BY-NC-SA 4.0 International License.\n",
    "\n",
    "![Python logo](https://www.python.org/static/community_logos/python-logo.png)"
   ]
  }
 ],
 "metadata": {
  "kernelspec": {
   "display_name": "Python 3",
   "language": "python",
   "name": "python3"
  },
  "language_info": {
   "codemirror_mode": {
    "name": "ipython",
    "version": 3
   },
   "file_extension": ".py",
   "mimetype": "text/x-python",
   "name": "python",
   "nbconvert_exporter": "python",
   "pygments_lexer": "ipython3",
   "version": "3.6.5"
  }
 },
 "nbformat": 4,
 "nbformat_minor": 4
}
